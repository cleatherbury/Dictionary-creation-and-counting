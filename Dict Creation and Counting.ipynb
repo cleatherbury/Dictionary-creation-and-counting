{
 "cells": [
  {
   "cell_type": "code",
   "execution_count": 1,
   "metadata": {},
   "outputs": [
    {
     "name": "stdout",
     "output_type": "stream",
     "text": [
      "20.1\n",
      "\n",
      "\n",
      "{'IDE HDDs': ['Hard Drives', 'PC Parts'], 'SCSI HDDs': ['Hard Drives', 'PC Parts'], 'High-end video cards': ['PC Parts', 'Video Cards'], 'Basic video cards': ['PC Parts', 'Video Cards']}\n",
      "\n",
      "\n",
      "['Muhammad Ali', 'Amir Ali', 'Malik Ali', 'Ram Devi', 'Amaira Devi', 'Feng Chen', 'Li Chen']\n",
      "\n",
      "\n"
     ]
    }
   ],
   "source": [
    "def total_user_hours(Server):\n",
    "  total_user_hours=0.0\n",
    "  for user, time in Server.items():\n",
    "    total_user_hours+=Server[user]\n",
    "  ruh=round(total_user_hours, 2)\n",
    "  return ruh\n",
    "    \n",
    "\n",
    "\n",
    "FileServer = {\"EndUser1\": 2.25, \"EndUser2\": 4.5, \"EndUser3\": 1, \"EndUser4\": 3.75, \"EndUser5\": 0.6, \"EndUser6\": 8}\n",
    "print(total_user_hours(FileServer))\n",
    "\n",
    "print('\\n')\n",
    "def invert_resource_dict(dictionary):\n",
    "  inverted_dict={}\n",
    "  for resource_groups, resources in dictionary.items():\n",
    "    for resource in resources:\n",
    "      if resource not in inverted_dict:\n",
    "        inverted_dict[resource]=[resource_groups]\n",
    "      else:\n",
    "        inverted_dict[resource].append(resource_groups)\n",
    "  return inverted_dict\n",
    "\n",
    "print(invert_resource_dict({\"Hard Drives\": [\"IDE HDDs\", \"SCSI HDDs\"],\n",
    "\n",
    "        \"PC Parts\":  [\"IDE HDDs\", \"SCSI HDDs\", \"High-end video cards\", \"Basic video cards\"], \"Video Cards\": [\"High-end video cards\", \"Basic video cards\"]}))\n",
    "# Should print {'IDE HDDs': ['Hard Drives', 'PC Parts'], 'SCSI HDDs': ['Hard Drives', 'PC Parts'], 'High-end video cards': ['PC Parts', 'Video Cards'], 'Basic video cards': ['PC Parts', 'Video Cards']}\n",
    "print('\\n')\n",
    "def list_full_names(dictionary):\n",
    "  full_names=[]\n",
    "  for lastname, firstnames in dictionary.items():\n",
    "    for firstname in firstnames:\n",
    "      full_names.append(firstname+' '+lastname)\n",
    "  return full_names\n",
    "\n",
    "print(list_full_names({\"Ali\": [\"Muhammad\", \"Amir\", \"Malik\"], \"Devi\": [\"Ram\", \"Amaira\"], \"Chen\": [\"Feng\", \"Li\"]}))\n",
    "print('\\n')"
   ]
  }
 ],
 "metadata": {
  "kernelspec": {
   "display_name": "Python 3",
   "language": "python",
   "name": "python3"
  },
  "language_info": {
   "codemirror_mode": {
    "name": "ipython",
    "version": 3
   },
   "file_extension": ".py",
   "mimetype": "text/x-python",
   "name": "python",
   "nbconvert_exporter": "python",
   "pygments_lexer": "ipython3",
   "version": "3.11.4"
  },
  "orig_nbformat": 4
 },
 "nbformat": 4,
 "nbformat_minor": 2
}
